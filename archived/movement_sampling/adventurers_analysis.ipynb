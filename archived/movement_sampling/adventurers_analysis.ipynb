{
 "cells": [
  {
   "metadata": {},
   "cell_type": "markdown",
   "source": [
    "How do people move if they aren't commuting? This notebook is trying to find relevant behaviour patterns that can be used for \"adventurers\".\n",
    "\n",
    "This uses 3 OD matrices. 2 from BBC pandemic and 1 from ONS commuters. These have been recast into a common geography, and then we've assumed that the population size in each patch hasn't changed drastically between datasets (which are 7 years apart, great assumption).\n"
   ],
   "id": "c213e65a70c75ec7"
  },
  {
   "metadata": {
    "ExecuteTime": {
     "end_time": "2025-03-19T12:43:47.816004Z",
     "start_time": "2025-03-19T12:43:47.803422Z"
    }
   },
   "cell_type": "code",
   "source": [
    "from scipy.sparse import csr_matrix\n",
    "%load_ext autoreload\n",
    "%autoreload 2"
   ],
   "id": "cb9cf59fd6cef286",
   "outputs": [],
   "execution_count": 2
  },
  {
   "metadata": {
    "ExecuteTime": {
     "end_time": "2025-03-19T14:11:08.710095Z",
     "start_time": "2025-03-19T14:11:08.703342Z"
    }
   },
   "cell_type": "code",
   "source": [
    "from grab_data import get_matrix, get_population_sizes, get_population_ordering\n",
    "import numpy as np\n",
    "import matplotlib.pyplot as plt\n",
    "from copy import deepcopy"
   ],
   "id": "8d9b0a60276d429d",
   "outputs": [],
   "execution_count": 17
  },
  {
   "metadata": {
    "ExecuteTime": {
     "end_time": "2025-03-19T12:43:48.227619Z",
     "start_time": "2025-03-19T12:43:48.203619Z"
    }
   },
   "cell_type": "code",
   "source": [
    "sizes = get_population_sizes('CENSUS_LAD11')\n",
    "od_matrix = get_matrix('CENSUS_LAD11')"
   ],
   "id": "4b79131dc093068b",
   "outputs": [],
   "execution_count": 4
  },
  {
   "metadata": {},
   "cell_type": "markdown",
   "source": [
    "# Eigenvalues of commuter matrix\n",
    "Quick check so I can see how mixing affects metapopulation models.\n"
   ],
   "id": "8da4abdf16556b0b"
  },
  {
   "metadata": {
    "ExecuteTime": {
     "end_time": "2025-03-19T15:54:07.768563Z",
     "start_time": "2025-03-19T15:54:07.747173Z"
    }
   },
   "cell_type": "code",
   "source": [
    "A = deepcopy(od_matrix)\n",
    "commuters = A.sum(axis=1)\n",
    "non_commuters = sizes - commuters\n",
    "np.fill_diagonal(A, non_commuters)\n",
    "A = np.dot(A.T, np.diag(1/sizes))\n",
    "A"
   ],
   "id": "2679b635cb8a3c33",
   "outputs": [
    {
     "data": {
      "text/plain": [
       "array([[6.51866823e-01, 7.15255903e-03, 4.12792117e-03, ...,\n",
       "        0.00000000e+00, 0.00000000e+00, 0.00000000e+00],\n",
       "       [1.72882166e-02, 6.66661850e-01, 7.81863779e-02, ...,\n",
       "        0.00000000e+00, 0.00000000e+00, 0.00000000e+00],\n",
       "       [5.80258182e-03, 3.69259891e-02, 6.52233738e-01, ...,\n",
       "        0.00000000e+00, 0.00000000e+00, 3.40124486e-05],\n",
       "       ...,\n",
       "       [0.00000000e+00, 0.00000000e+00, 0.00000000e+00, ...,\n",
       "        6.18399023e-01, 9.85140176e-04, 5.15288596e-03],\n",
       "       [0.00000000e+00, 0.00000000e+00, 0.00000000e+00, ...,\n",
       "        2.74468903e-04, 6.67955120e-01, 3.72436312e-03],\n",
       "       [0.00000000e+00, 0.00000000e+00, 0.00000000e+00, ...,\n",
       "        5.96969863e-04, 1.69955481e-03, 6.34451209e-01]])"
      ]
     },
     "execution_count": 29,
     "metadata": {},
     "output_type": "execute_result"
    }
   ],
   "execution_count": 29
  },
  {
   "metadata": {
    "ExecuteTime": {
     "end_time": "2025-03-19T15:54:13.504290Z",
     "start_time": "2025-03-19T15:54:13.441707Z"
    }
   },
   "cell_type": "code",
   "source": [
    "from scipy.linalg import eigh\n",
    "w= eigh(A, eigvals_only=True)\n",
    "w"
   ],
   "id": "32babe3b7c246cf3",
   "outputs": [
    {
     "data": {
      "text/plain": [
       "array([0.1549737 , 0.4367852 , 0.46703973, 0.47751254, 0.48258803,\n",
       "       0.4826743 , 0.48655118, 0.48931309, 0.49026052, 0.49621273,\n",
       "       0.49654683, 0.50042062, 0.50248351, 0.50423617, 0.50451618,\n",
       "       0.50678402, 0.50715763, 0.50782934, 0.51178762, 0.51285901,\n",
       "       0.51308412, 0.51400408, 0.51587896, 0.51808084, 0.51817182,\n",
       "       0.51996244, 0.52049431, 0.52288746, 0.52297566, 0.525566  ,\n",
       "       0.52587789, 0.52818727, 0.52850415, 0.528924  , 0.52949146,\n",
       "       0.52977713, 0.53000477, 0.5314587 , 0.53162134, 0.53463392,\n",
       "       0.53507479, 0.53528615, 0.53540542, 0.53541836, 0.53653406,\n",
       "       0.53757679, 0.53893222, 0.54034552, 0.5417365 , 0.54214452,\n",
       "       0.54278095, 0.54334623, 0.54449681, 0.54530955, 0.54581791,\n",
       "       0.54612446, 0.5467539 , 0.54749001, 0.54770885, 0.54937467,\n",
       "       0.55005168, 0.55085976, 0.55125163, 0.55136139, 0.55156969,\n",
       "       0.5517072 , 0.55174091, 0.55246198, 0.55276607, 0.55375924,\n",
       "       0.55526942, 0.55544719, 0.5559822 , 0.55665489, 0.55745463,\n",
       "       0.55841325, 0.55878957, 0.55963404, 0.56092017, 0.56153731,\n",
       "       0.56246315, 0.56269696, 0.56282341, 0.56376821, 0.56396321,\n",
       "       0.56457068, 0.56497218, 0.566228  , 0.56646724, 0.56694715,\n",
       "       0.56741233, 0.56766556, 0.56803539, 0.56807981, 0.56905967,\n",
       "       0.56923183, 0.56987707, 0.5702105 , 0.57035917, 0.57096827,\n",
       "       0.57103697, 0.57196872, 0.57219848, 0.57245182, 0.57327883,\n",
       "       0.57334944, 0.57388656, 0.57404561, 0.5744949 , 0.57459246,\n",
       "       0.57506297, 0.57563038, 0.57573263, 0.57669911, 0.57706085,\n",
       "       0.57718045, 0.5779992 , 0.57823338, 0.57929959, 0.57953929,\n",
       "       0.5797443 , 0.58027305, 0.58061707, 0.58097354, 0.58152068,\n",
       "       0.5821291 , 0.58218039, 0.58236198, 0.58259797, 0.58271981,\n",
       "       0.58284174, 0.58367426, 0.58505836, 0.58641392, 0.58663231,\n",
       "       0.5870786 , 0.58726223, 0.58785432, 0.58846761, 0.58868754,\n",
       "       0.58891189, 0.58955573, 0.59019835, 0.59022872, 0.5908031 ,\n",
       "       0.59158598, 0.59275087, 0.59334257, 0.59356132, 0.59389312,\n",
       "       0.59435501, 0.59542426, 0.59565957, 0.5957094 , 0.59592648,\n",
       "       0.59640575, 0.59738139, 0.59841202, 0.59926512, 0.60081028,\n",
       "       0.6009734 , 0.60169522, 0.60210376, 0.60227226, 0.60281241,\n",
       "       0.60292351, 0.60307932, 0.60352911, 0.60367949, 0.60404618,\n",
       "       0.60414196, 0.60424113, 0.60441531, 0.60538847, 0.60556133,\n",
       "       0.60612281, 0.60614954, 0.6065419 , 0.60670869, 0.60726134,\n",
       "       0.6075456 , 0.60857215, 0.6091771 , 0.60928293, 0.60965197,\n",
       "       0.61072077, 0.61084057, 0.61116067, 0.61197696, 0.61227347,\n",
       "       0.61241903, 0.61275007, 0.61322082, 0.61363684, 0.61421494,\n",
       "       0.61470388, 0.61498807, 0.61512136, 0.61589251, 0.61774117,\n",
       "       0.61792124, 0.61861432, 0.61921142, 0.6197944 , 0.62033278,\n",
       "       0.62071772, 0.62131877, 0.62158883, 0.62183981, 0.62187651,\n",
       "       0.62277029, 0.6239306 , 0.62478384, 0.62483514, 0.62499889,\n",
       "       0.62531271, 0.62624829, 0.6274022 , 0.62748919, 0.62824319,\n",
       "       0.6285965 , 0.6291221 , 0.62931192, 0.63018158, 0.6302798 ,\n",
       "       0.63070934, 0.63103035, 0.63253374, 0.63276416, 0.6330472 ,\n",
       "       0.63311956, 0.63500435, 0.63508601, 0.6360385 , 0.63632439,\n",
       "       0.63708205, 0.63812969, 0.63844981, 0.63861938, 0.63891392,\n",
       "       0.63990298, 0.64043466, 0.64140355, 0.64242874, 0.64254276,\n",
       "       0.64520454, 0.64596081, 0.64656729, 0.64761552, 0.648155  ,\n",
       "       0.64819734, 0.64867747, 0.64922455, 0.65050286, 0.65077623,\n",
       "       0.65109439, 0.65161587, 0.65233158, 0.65250372, 0.6528746 ,\n",
       "       0.65364891, 0.65663266, 0.65740906, 0.65787133, 0.65829833,\n",
       "       0.65920027, 0.65996205, 0.65998483, 0.66084048, 0.66229877,\n",
       "       0.66244046, 0.66312482, 0.6640605 , 0.66774087, 0.66853926,\n",
       "       0.66953085, 0.66976172, 0.6707923 , 0.67089539, 0.67126109,\n",
       "       0.67184424, 0.67290147, 0.6738545 , 0.6755087 , 0.67621705,\n",
       "       0.6776373 , 0.67828864, 0.68002482, 0.68115102, 0.68150127,\n",
       "       0.68177702, 0.68257818, 0.68345565, 0.68505866, 0.68674192,\n",
       "       0.68833101, 0.6890869 , 0.68987163, 0.69115955, 0.69125703,\n",
       "       0.69257066, 0.69395389, 0.69478632, 0.69630406, 0.69720481,\n",
       "       0.70073683, 0.70130823, 0.70207979, 0.70399049, 0.70478423,\n",
       "       0.705509  , 0.70783632, 0.71061023, 0.71078079, 0.71247777,\n",
       "       0.71967929, 0.72210904, 0.72225996, 0.72415612, 0.72793265,\n",
       "       0.73069434, 0.73307147, 0.73486949, 0.73564215, 0.73721124,\n",
       "       0.74021611, 0.74169528, 0.74278489, 0.74479133, 0.74600164,\n",
       "       0.74838339, 0.75705622, 0.75829064, 0.76081082, 0.7632294 ,\n",
       "       0.76828685, 0.77195592, 0.77515365, 0.78038953, 0.78164368,\n",
       "       0.78506779, 0.78978997, 0.81171114, 0.81890615, 0.87348717,\n",
       "       1.23815352])"
      ]
     },
     "execution_count": 31,
     "metadata": {},
     "output_type": "execute_result"
    }
   ],
   "execution_count": 31
  },
  {
   "metadata": {},
   "cell_type": "markdown",
   "source": [
    "# Can we get everywhere with commuters?\n",
    "Probably, check the number of connected components"
   ],
   "id": "88e52d7a468c3f3a"
  },
  {
   "metadata": {
    "ExecuteTime": {
     "end_time": "2025-03-19T12:45:09.554620Z",
     "start_time": "2025-03-19T12:45:09.532249Z"
    }
   },
   "cell_type": "code",
   "source": [
    "from scipy.sparse.csgraph import connected_components\n",
    "from scipy.sparse import csr_array\n",
    "adjacency_matrix = csr_array(np.array(od_matrix != 0).astype(int))\n",
    "connected_components(csgraph=adjacency_matrix, directed=True, return_labels=False)\n"
   ],
   "id": "cbd387a0d3b1d90c",
   "outputs": [
    {
     "data": {
      "text/plain": [
       "1"
      ]
     },
     "execution_count": 14,
     "metadata": {},
     "output_type": "execute_result"
    }
   ],
   "execution_count": 14
  },
  {
   "metadata": {},
   "cell_type": "markdown",
   "source": "# Population sizes and effects on flux",
   "id": "afa890aca7a6501e"
  },
  {
   "metadata": {
    "ExecuteTime": {
     "end_time": "2025-03-19T12:43:48.253422Z",
     "start_time": "2025-03-19T12:43:48.246591Z"
    }
   },
   "cell_type": "code",
   "source": [
    "flux_terms = od_matrix - od_matrix.T\n",
    "flux = flux_terms.sum(axis=1)"
   ],
   "id": "4a6247a4e50bb1e3",
   "outputs": [],
   "execution_count": 6
  },
  {
   "metadata": {
    "ExecuteTime": {
     "end_time": "2025-03-19T16:40:44.674563Z",
     "start_time": "2025-03-19T16:40:44.665280Z"
    }
   },
   "cell_type": "code",
   "source": "ratio = sizes/flux",
   "id": "219b419617bd6c67",
   "outputs": [],
   "execution_count": 48
  },
  {
   "metadata": {
    "ExecuteTime": {
     "end_time": "2025-03-19T16:43:41.068365Z",
     "start_time": "2025-03-19T16:43:41.059075Z"
    }
   },
   "cell_type": "code",
   "source": "np.exp(-1/(1+ratio.min()))",
   "id": "afb964350ab751d9",
   "outputs": [
    {
     "data": {
      "text/plain": [
       "1.000080240262228"
      ]
     },
     "execution_count": 53,
     "metadata": {},
     "output_type": "execute_result"
    }
   ],
   "execution_count": 53
  },
  {
   "metadata": {
    "ExecuteTime": {
     "end_time": "2025-03-19T16:01:17.995223Z",
     "start_time": "2025-03-19T16:01:17.932318Z"
    }
   },
   "cell_type": "code",
   "source": [
    "plt.hist(diff, bins=100)\n",
    "plt.xticks(np.arange(-0.5, 4, 0.5))\n",
    "plt.show()"
   ],
   "id": "d3971b04770ad722",
   "outputs": [
    {
     "data": {
      "text/plain": [
       "<Figure size 640x480 with 1 Axes>"
      ],
      "image/png": "[encoded data removed]"
     },
     "metadata": {},
     "output_type": "display_data"
    }
   ],
   "execution_count": 42
  },
  {
   "metadata": {
    "ExecuteTime": {
     "end_time": "2025-03-19T12:43:48.391001Z",
     "start_time": "2025-03-19T12:43:48.388752Z"
    }
   },
   "cell_type": "code",
   "source": "",
   "id": "e62bbbf7132ddcf4",
   "outputs": [],
   "execution_count": null
  }
 ],
 "metadata": {
  "kernelspec": {
   "display_name": "Python 3",
   "language": "python",
   "name": "python3"
  },
  "language_info": {
   "codemirror_mode": {
    "name": "ipython",
    "version": 2
   },
   "file_extension": ".py",
   "mimetype": "text/x-python",
   "name": "python",
   "nbconvert_exporter": "python",
   "pygments_lexer": "ipython2",
   "version": "2.7.6"
  }
 },
 "nbformat": 4,
 "nbformat_minor": 5
}
