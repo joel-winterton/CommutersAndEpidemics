{
 "cells": [
  {
   "metadata": {
    "ExecuteTime": {
     "end_time": "2025-05-07T14:34:38.041217Z",
     "start_time": "2025-05-07T14:34:38.029721Z"
    }
   },
   "cell_type": "code",
   "source": [
    "%load_ext autoreload\n",
    "%autoreload 2"
   ],
   "id": "addd0daaf933f7dc",
   "outputs": [],
   "execution_count": 1
  },
  {
   "metadata": {
    "collapsed": true,
    "ExecuteTime": {
     "end_time": "2025-05-07T14:36:45.294297Z",
     "start_time": "2025-05-07T14:36:45.281499Z"
    }
   },
   "cell_type": "code",
   "source": [
    "import matplotlib.pyplot as plt\n",
    "from grab_data import *\n",
    "import numpy as np\n",
    "from grab_simulations import grab_simulations"
   ],
   "id": "initial_id",
   "outputs": [],
   "execution_count": 6
  },
  {
   "metadata": {
    "ExecuteTime": {
     "end_time": "2025-05-07T14:34:15.104322Z",
     "start_time": "2025-05-07T14:34:15.066682Z"
    }
   },
   "cell_type": "code",
   "source": [
    "DATASET = 'CENSUS_LAD11'\n",
    "flow_matrix = get_matrix(DATASET, full=True)\n",
    "population_sizes = get_population_sizes(DATASET)\n",
    "total_pop = population_sizes.sum()\n",
    "population_names = get_population_ordering(DATASET)"
   ],
   "id": "a4a2c40d28e5c3bc",
   "outputs": [],
   "execution_count": 15
  },
  {
   "metadata": {
    "ExecuteTime": {
     "end_time": "2025-05-07T14:36:54.702829Z",
     "start_time": "2025-05-07T14:36:54.585516Z"
    }
   },
   "cell_type": "code",
   "source": "grab_simulations(1.3, 'perfect_oneway')",
   "id": "dbbf8dfe2dfa2ca6",
   "outputs": [
    {
     "data": {
      "text/plain": [
       "(array([[[ 92028., 138412., 135177., ..., 145736., 132976.,  58802.],\n",
       "         [ 92028., 138412., 135177., ..., 145736., 132976.,  58802.],\n",
       "         [ 92028., 138412., 135177., ..., 145736., 132976.,  58802.],\n",
       "         ...,\n",
       "         [ 71993.,  96035., 103093., ..., 101243., 100530.,  44897.],\n",
       "         [ 71921.,  95900., 102982., ..., 101118., 100399.,  44848.],\n",
       "         [ 71845.,  95795., 102853., ..., 100974., 100272.,  44799.]],\n",
       " \n",
       "        [[ 92028., 138412., 135177., ..., 145736., 132976.,  58802.],\n",
       "         [ 92028., 138412., 135177., ..., 145736., 132976.,  58802.],\n",
       "         [ 92028., 138412., 135177., ..., 145736., 132976.,  58802.],\n",
       "         ...,\n",
       "         [ 82521., 121969., 122004., ..., 124560., 115197.,  51548.],\n",
       "         [ 82451., 121868., 121931., ..., 124426., 115090.,  51499.],\n",
       "         [ 82381., 121756., 121846., ..., 124310., 115001.,  51461.]],\n",
       " \n",
       "        [[ 92028., 138412., 135177., ..., 145736., 132976.,  58802.],\n",
       "         [ 92028., 138412., 135177., ..., 145736., 132976.,  58802.],\n",
       "         [ 92028., 138412., 135177., ..., 145736., 132976.,  58802.],\n",
       "         ...,\n",
       "         [ 89530., 133222., 132644., ..., 138086., 127701.,  57796.],\n",
       "         [ 89512., 133172., 132621., ..., 138029., 127661.,  57787.],\n",
       "         [ 89483., 133134., 132599., ..., 137952., 127618.,  57779.]],\n",
       " \n",
       "        ...,\n",
       " \n",
       "        [[ 92028., 138412., 135177., ..., 145736., 132976.,  58802.],\n",
       "         [ 92028., 138412., 135177., ..., 145736., 132976.,  58802.],\n",
       "         [ 92028., 138412., 135177., ..., 145736., 132976.,  58802.],\n",
       "         ...,\n",
       "         [ 74221., 101344., 108714., ...,  94127.,  93215.,  40087.],\n",
       "         [ 74142., 101204., 108578., ...,  94007.,  93127.,  40046.],\n",
       "         [ 74066., 101069., 108449., ...,  93936.,  93034.,  39997.]],\n",
       " \n",
       "        [[ 92028., 138412., 135177., ..., 145736., 132976.,  58802.],\n",
       "         [ 92028., 138412., 135177., ..., 145736., 132976.,  58802.],\n",
       "         [ 92028., 138412., 135177., ..., 145736., 132976.,  58802.],\n",
       "         ...,\n",
       "         [ 86303., 129090., 129548., ..., 131239., 123788.,  55704.],\n",
       "         [ 86268., 129015., 129483., ..., 131141., 123731.,  55679.],\n",
       "         [ 86237., 128932., 129422., ..., 131037., 123652.,  55655.]],\n",
       " \n",
       "        [[ 92028., 138412., 135177., ..., 145736., 132976.,  58802.],\n",
       "         [ 92028., 138412., 135177., ..., 145736., 132976.,  58802.],\n",
       "         [ 92028., 138412., 135177., ..., 145736., 132976.,  58802.],\n",
       "         ...,\n",
       "         [ 91079., 135780., 134005., ..., 140475., 128788.,  57816.],\n",
       "         [ 91069., 135757., 133990., ..., 140421., 128751.,  57803.],\n",
       "         [ 91061., 135736., 133980., ..., 140374., 128717.,  57792.]]]),\n",
       " array([[[   0.,    0.,    0., ...,    0.,    0.,    0.],\n",
       "         [   0.,    0.,    0., ...,    0.,    0.,    0.],\n",
       "         [   0.,    0.,    0., ...,    0.,    0.,    0.],\n",
       "         ...,\n",
       "         [3046., 4801., 4371., ..., 4939., 4221., 1893.],\n",
       "         [3022., 4807., 4381., ..., 4921., 4216., 1882.],\n",
       "         [3012., 4765., 4393., ..., 4940., 4233., 1876.]],\n",
       " \n",
       "        [[   0.,    0.,    0., ...,    0.,    0.,    0.],\n",
       "         [   0.,    0.,    0., ...,    0.,    0.,    0.],\n",
       "         [   0.,    0.,    0., ...,    0.,    0.,    0.],\n",
       "         ...,\n",
       "         [1917., 3399., 2624., ..., 4069., 3152., 1241.],\n",
       "         [1928., 3386., 2616., ..., 4095., 3165., 1251.],\n",
       "         [1941., 3403., 2630., ..., 4097., 3176., 1252.]],\n",
       " \n",
       "        [[   0.,    0.,    0., ...,    0.,    0.,    0.],\n",
       "         [   0.,    0.,    0., ...,    0.,    0.,    0.],\n",
       "         [   0.,    0.,    0., ...,    0.,    0.,    0.],\n",
       "         ...,\n",
       "         [ 659., 1301.,  674., ..., 1810., 1311.,  276.],\n",
       "         [ 657., 1321.,  676., ..., 1818., 1317.,  276.],\n",
       "         [ 667., 1321.,  678., ..., 1841., 1320.,  273.]],\n",
       " \n",
       "        ...,\n",
       " \n",
       "        [[   0.,    0.,    0., ...,    0.,    0.,    0.],\n",
       "         [   0.,    0.,    0., ...,    0.,    0.,    0.],\n",
       "         [   0.,    0.,    0., ...,    0.,    0.,    0.],\n",
       "         ...,\n",
       "         [2650., 4655., 4311., ..., 4484., 3756., 1551.],\n",
       "         [2662., 4666., 4328., ..., 4469., 3740., 1549.],\n",
       "         [2682., 4668., 4323., ..., 4406., 3735., 1558.]],\n",
       " \n",
       "        [[   0.,    0.,    0., ...,    0.,    0.,    0.],\n",
       "         [   0.,    0.,    0., ...,    0.,    0.,    0.],\n",
       "         [   0.,    0.,    0., ...,    0.,    0.,    0.],\n",
       "         ...,\n",
       "         [1137., 2162., 1465., ..., 3178., 2161.,  716.],\n",
       "         [1142., 2178., 1486., ..., 3186., 2158.,  720.],\n",
       "         [1139., 2208., 1497., ..., 3222., 2175.,  723.]],\n",
       " \n",
       "        [[   0.,    0.,    0., ...,    0.,    0.,    0.],\n",
       "         [   0.,    0.,    0., ...,    0.,    0.,    0.],\n",
       "         [   0.,    0.,    0., ...,    0.,    0.,    0.],\n",
       "         ...,\n",
       "         [ 251.,  718.,  299., ..., 1377., 1108.,  318.],\n",
       "         [ 243.,  720.,  305., ..., 1402., 1117.,  320.],\n",
       "         [ 247.,  718.,  299., ..., 1398., 1118.,  324.]]]))"
      ]
     },
     "execution_count": 8,
     "metadata": {},
     "output_type": "execute_result"
    }
   ],
   "execution_count": 8
  },
  {
   "metadata": {
    "ExecuteTime": {
     "end_time": "2025-05-07T09:41:44.985501Z",
     "start_time": "2025-05-07T09:41:44.892527Z"
    }
   },
   "cell_type": "code",
   "source": "oneway_perfect_f = s[:, -1,...].sum(axis=(1,2))/total_pop",
   "id": "434bd842d0feeec5",
   "outputs": [],
   "execution_count": 4
  },
  {
   "metadata": {
    "ExecuteTime": {
     "end_time": "2025-05-07T09:42:28.360640Z",
     "start_time": "2025-05-07T09:42:28.299159Z"
    }
   },
   "cell_type": "code",
   "source": [
    "plt.hist(oneway_perfect_f, bins=25)\n",
    "plt.title('Final size proportions')\n",
    "plt.show()"
   ],
   "id": "8c764e43b9623f30",
   "outputs": [
    {
     "data": {
      "text/plain": [
       "<Figure size 640x480 with 1 Axes>"
      ],
      "image/png": "[encoded data removed]"
     },
     "metadata": {},
     "output_type": "display_data"
    }
   ],
   "execution_count": 9
  },
  {
   "metadata": {},
   "cell_type": "code",
   "outputs": [],
   "execution_count": null,
   "source": "",
   "id": "24587321d08240d1"
  }
 ],
 "metadata": {
  "kernelspec": {
   "display_name": "Python 3",
   "language": "python",
   "name": "python3"
  },
  "language_info": {
   "codemirror_mode": {
    "name": "ipython",
    "version": 2
   },
   "file_extension": ".py",
   "mimetype": "text/x-python",
   "name": "python",
   "nbconvert_exporter": "python",
   "pygments_lexer": "ipython2",
   "version": "2.7.6"
  }
 },
 "nbformat": 4,
 "nbformat_minor": 5
}
