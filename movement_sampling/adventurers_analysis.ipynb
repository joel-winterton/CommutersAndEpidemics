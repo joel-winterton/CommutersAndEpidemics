{
 "cells": [
  {
   "metadata": {},
   "cell_type": "markdown",
   "source": "How do people move if they aren't commuting? This notebook is trying to find relevant behaviour patterns that can be used for \"adventurers\".\n",
   "id": "c213e65a70c75ec7"
  }
 ],
 "metadata": {
  "kernelspec": {
   "display_name": "Python 3",
   "language": "python",
   "name": "python3"
  },
  "language_info": {
   "codemirror_mode": {
    "name": "ipython",
    "version": 2
   },
   "file_extension": ".py",
   "mimetype": "text/x-python",
   "name": "python",
   "nbconvert_exporter": "python",
   "pygments_lexer": "ipython2",
   "version": "2.7.6"
  }
 },
 "nbformat": 4,
 "nbformat_minor": 5
}
