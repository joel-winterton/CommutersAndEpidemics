{
 "cells": [
  {
   "metadata": {
    "ExecuteTime": {
     "end_time": "2025-03-27T14:23:47.494170Z",
     "start_time": "2025-03-27T14:23:47.144550Z"
    }
   },
   "cell_type": "code",
   "source": [
    "from movement_samplers import RandomCommuterSampler, PerfectCommuterSampler\n",
    "from movement_epidemic import MovementEpidemic\n",
    "from basic_epidemic import fit_model, transmission_nll\n",
    "from grab_data import get_matrix, get_population_sizes\n",
    "import matplotlib.pyplot as plt\n",
    "import numpy as np\n",
    "from copy import deepcopy"
   ],
   "id": "3054210bcfb81cf8",
   "outputs": [],
   "execution_count": 2
  },
  {
   "metadata": {
    "collapsed": true,
    "ExecuteTime": {
     "end_time": "2025-03-27T14:23:47.709476Z",
     "start_time": "2025-03-27T14:23:47.703834Z"
    }
   },
   "cell_type": "code",
   "source": [
    "DATASET = 'CENSUS_SUBSAMPLED'\n",
    "od_matrix = get_matrix(DATASET)\n",
    "pop_sizes = get_population_sizes(DATASET)"
   ],
   "id": "initial_id",
   "outputs": [],
   "execution_count": 3
  },
  {
   "metadata": {
    "ExecuteTime": {
     "end_time": "2025-03-27T14:24:06.065188Z",
     "start_time": "2025-03-27T14:24:06.062313Z"
    }
   },
   "cell_type": "code",
   "source": "b, g, p = 1.8, 0.4, 0.8",
   "id": "41903dd3de91861d",
   "outputs": [],
   "execution_count": 4
  },
  {
   "metadata": {
    "ExecuteTime": {
     "end_time": "2025-03-27T14:33:15.593882Z",
     "start_time": "2025-03-27T14:24:36.902319Z"
    }
   },
   "cell_type": "code",
   "source": [
    "random_epi = MovementEpidemic(RandomCommuterSampler, od_matrix, pop_sizes, beta=b, gamma=g, psi=p, t_max=100)\n",
    "random_sim = random_epi.simulate()\n",
    "perfect_commuter = MovementEpidemic(PerfectCommuterSampler, od_matrix, pop_sizes, beta=b, gamma=g, psi=p, t_max=100)\n",
    "perfect_sim = perfect_commuter.simulate()"
   ],
   "id": "cb5d408691f78899",
   "outputs": [
    {
     "name": "stdout",
     "output_type": "stream",
     "text": [
      "Simulation finished, aggregating states.\n",
      "Simulation finished, aggregating states.\n"
     ]
    }
   ],
   "execution_count": 5
  },
  {
   "metadata": {},
   "cell_type": "code",
   "outputs": [],
   "execution_count": null,
   "source": "",
   "id": "bdb1de97e9d8c965"
  }
 ],
 "metadata": {
  "kernelspec": {
   "display_name": "Python 3",
   "language": "python",
   "name": "python3"
  },
  "language_info": {
   "codemirror_mode": {
    "name": "ipython",
    "version": 2
   },
   "file_extension": ".py",
   "mimetype": "text/x-python",
   "name": "python",
   "nbconvert_exporter": "python",
   "pygments_lexer": "ipython2",
   "version": "2.7.6"
  }
 },
 "nbformat": 4,
 "nbformat_minor": 5
}
