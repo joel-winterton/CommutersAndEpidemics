{
 "cells": [
  {
   "cell_type": "code",
   "id": "initial_id",
   "metadata": {
    "collapsed": true,
    "ExecuteTime": {
     "end_time": "2025-04-09T11:54:54.298641Z",
     "start_time": "2025-04-09T11:54:54.287755Z"
    }
   },
   "source": [
    "%load_ext autoreload\n",
    "%autoreload 2"
   ],
   "outputs": [],
   "execution_count": 1
  },
  {
   "metadata": {
    "ExecuteTime": {
     "end_time": "2025-04-09T11:54:55.219143Z",
     "start_time": "2025-04-09T11:54:55.044225Z"
    }
   },
   "cell_type": "code",
   "source": "from lattice_model import Lattice",
   "id": "c00131fcca19869e",
   "outputs": [],
   "execution_count": 2
  },
  {
   "metadata": {
    "ExecuteTime": {
     "end_time": "2025-04-09T11:54:57.682923Z",
     "start_time": "2025-04-09T11:54:56.277479Z"
    }
   },
   "cell_type": "code",
   "source": "lattice = Lattice(width=100)",
   "id": "503a4466997cbd47",
   "outputs": [],
   "execution_count": 3
  },
  {
   "metadata": {},
   "cell_type": "code",
   "outputs": [],
   "execution_count": null,
   "source": "",
   "id": "a445d4a9c7a4d7b0"
  }
 ],
 "metadata": {
  "kernelspec": {
   "display_name": "Python 3",
   "language": "python",
   "name": "python3"
  },
  "language_info": {
   "codemirror_mode": {
    "name": "ipython",
    "version": 2
   },
   "file_extension": ".py",
   "mimetype": "text/x-python",
   "name": "python",
   "nbconvert_exporter": "python",
   "pygments_lexer": "ipython2",
   "version": "2.7.6"
  }
 },
 "nbformat": 4,
 "nbformat_minor": 5
}
