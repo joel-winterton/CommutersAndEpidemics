{
 "cells": [
  {
   "metadata": {},
   "cell_type": "markdown",
   "source": "My mock data is rubbish (and very small), so instead I subsample the ONS data to get something that might be more reasonable in size while still having OK times for movement sampling.",
   "id": "1d5172f41739a5d2"
  },
  {
   "metadata": {
    "ExecuteTime": {
     "end_time": "2025-03-15T18:46:11.609159Z",
     "start_time": "2025-03-15T18:46:11.596654Z"
    }
   },
   "cell_type": "code",
   "source": [
    "%load_ext autoreload\n",
    "%autoreload 2"
   ],
   "id": "89da718f9b895a9a",
   "outputs": [
    {
     "name": "stdout",
     "output_type": "stream",
     "text": [
      "The autoreload extension is already loaded. To reload it, use:\n",
      "  %reload_ext autoreload\n"
     ]
    }
   ],
   "execution_count": 84
  },
  {
   "metadata": {
    "ExecuteTime": {
     "end_time": "2025-03-15T18:46:11.620882Z",
     "start_time": "2025-03-15T18:46:11.612124Z"
    }
   },
   "cell_type": "code",
   "source": [
    "import numpy as np\n",
    "from grab_data import get_matrix, get_population_sizes, get_population_ordering"
   ],
   "id": "c6d25b8ead080bb6",
   "outputs": [],
   "execution_count": 85
  },
  {
   "metadata": {
    "ExecuteTime": {
     "end_time": "2025-03-15T18:46:11.654105Z",
     "start_time": "2025-03-15T18:46:11.630020Z"
    }
   },
   "cell_type": "code",
   "source": [
    "DATASET = 'CENSUS_GLOBAL'\n",
    "SUBSAMPLE_PROPORTION = 0.25\n",
    "\n",
    "flow_matrix = get_matrix(DATASET)\n",
    "population_sizes = get_population_sizes(DATASET)\n",
    "population_ordering = get_population_ordering(DATASET)\n",
    "number_of_patches = np.floor(SUBSAMPLE_PROPORTION*len(population_ordering)).astype(int)\n",
    "number_of_patches"
   ],
   "id": "b8ca6f9586cb4cec",
   "outputs": [
    {
     "data": {
      "text/plain": [
       "86"
      ]
     },
     "execution_count": 86,
     "metadata": {},
     "output_type": "execute_result"
    }
   ],
   "execution_count": 86
  },
  {
   "metadata": {
    "ExecuteTime": {
     "end_time": "2025-03-15T18:46:11.724114Z",
     "start_time": "2025-03-15T18:46:11.716092Z"
    }
   },
   "cell_type": "code",
   "source": [
    "sub_samples = np.random.choice(population_ordering, number_of_patches, replace=False)\n",
    "sub_sample_indices = np.argwhere(np.isin(population_ordering, sub_samples)).flatten()"
   ],
   "id": "b2e2510c0fb46f52",
   "outputs": [],
   "execution_count": 87
  },
  {
   "metadata": {
    "ExecuteTime": {
     "end_time": "2025-03-15T18:46:11.746612Z",
     "start_time": "2025-03-15T18:46:11.739573Z"
    }
   },
   "cell_type": "code",
   "source": [
    "new_population_ordering = population_ordering[sub_sample_indices]\n",
    "new_flow_matrix = flow_matrix[sub_sample_indices, :][:, sub_sample_indices]\n",
    "new_population_sizes = population_sizes[sub_sample_indices]"
   ],
   "id": "762decad517d9363",
   "outputs": [],
   "execution_count": 88
  },
  {
   "metadata": {
    "ExecuteTime": {
     "end_time": "2025-03-15T18:46:11.756947Z",
     "start_time": "2025-03-15T18:46:11.749348Z"
    }
   },
   "cell_type": "code",
   "source": "new_flow_matrix",
   "id": "9084acdffa35c79e",
   "outputs": [
    {
     "data": {
      "text/plain": [
       "array([[2.5474e+04, 5.1110e+03, 1.0300e+03, ..., 0.0000e+00, 3.0000e+00,\n",
       "        1.0000e+00],\n",
       "       [1.0569e+04, 2.5106e+04, 6.8200e+02, ..., 0.0000e+00, 0.0000e+00,\n",
       "        0.0000e+00],\n",
       "       [1.3000e+03, 4.6700e+02, 2.6671e+04, ..., 0.0000e+00, 0.0000e+00,\n",
       "        1.0000e+00],\n",
       "       ...,\n",
       "       [0.0000e+00, 1.0000e+00, 0.0000e+00, ..., 1.8804e+04, 1.5810e+03,\n",
       "        1.6000e+01],\n",
       "       [2.0000e+00, 1.0000e+00, 3.0000e+00, ..., 1.5480e+03, 4.5024e+04,\n",
       "        1.1400e+02],\n",
       "       [0.0000e+00, 4.0000e+00, 7.0000e+00, ..., 3.0000e+00, 7.4000e+01,\n",
       "        2.2423e+04]])"
      ]
     },
     "execution_count": 89,
     "metadata": {},
     "output_type": "execute_result"
    }
   ],
   "execution_count": 89
  },
  {
   "metadata": {
    "ExecuteTime": {
     "end_time": "2025-03-15T18:46:11.785293Z",
     "start_time": "2025-03-15T18:46:11.777768Z"
    }
   },
   "cell_type": "code",
   "source": "new_population_sizes.sum()",
   "id": "9d677249a2f9fa14",
   "outputs": [
    {
     "data": {
      "text/plain": [
       "12614420.0"
      ]
     },
     "execution_count": 90,
     "metadata": {},
     "output_type": "execute_result"
    }
   ],
   "execution_count": 90
  },
  {
   "metadata": {
    "ExecuteTime": {
     "end_time": "2025-03-15T18:46:11.809610Z",
     "start_time": "2025-03-15T18:46:11.800269Z"
    }
   },
   "cell_type": "code",
   "source": [
    "np.savetxt('global_geography/lad_codes.csv', new_population_ordering, fmt='%s', delimiter=',')\n",
    "np.savetxt('global_geography/population_sizes.csv', new_population_sizes, fmt='%s', delimiter=',')\n",
    "np.savetxt('global_geography/od_matrix.csv', new_flow_matrix, fmt='%s', delimiter=',')"
   ],
   "id": "6afb963d222de25b",
   "outputs": [],
   "execution_count": 91
  }
 ],
 "metadata": {
  "kernelspec": {
   "display_name": "Python 3",
   "language": "python",
   "name": "python3"
  },
  "language_info": {
   "codemirror_mode": {
    "name": "ipython",
    "version": 2
   },
   "file_extension": ".py",
   "mimetype": "text/x-python",
   "name": "python",
   "nbconvert_exporter": "python",
   "pygments_lexer": "ipython2",
   "version": "2.7.6"
  }
 },
 "nbformat": 4,
 "nbformat_minor": 5
}
