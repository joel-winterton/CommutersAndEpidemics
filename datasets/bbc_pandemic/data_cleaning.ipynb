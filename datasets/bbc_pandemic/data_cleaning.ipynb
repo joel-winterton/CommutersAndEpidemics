{
 "cells": [
  {
   "metadata": {},
   "cell_type": "markdown",
   "source": "This just changes the format of the data to match the 2011 census data so we can make comparisons.\n",
   "id": "526948b3a25c3b9"
  },
  {
   "metadata": {
    "ExecuteTime": {
     "end_time": "2025-03-17T15:49:15.237683Z",
     "start_time": "2025-03-17T15:49:15.223648Z"
    }
   },
   "cell_type": "code",
   "source": [
    "%load_ext autoreload\n",
    "%autoreload 2"
   ],
   "id": "8badb3de88f0c19a",
   "outputs": [
    {
     "name": "stdout",
     "output_type": "stream",
     "text": [
      "The autoreload extension is already loaded. To reload it, use:\n",
      "  %reload_ext autoreload\n"
     ]
    }
   ],
   "execution_count": 34
  },
  {
   "metadata": {
    "ExecuteTime": {
     "end_time": "2025-03-17T15:49:15.254700Z",
     "start_time": "2025-03-17T15:49:15.245672Z"
    }
   },
   "cell_type": "code",
   "source": [
    "import pandas as pd\n",
    "import numpy as np\n",
    "from grab_data import get_population_ordering, get_matrix"
   ],
   "id": "fcf0bd01330e3690",
   "outputs": [],
   "execution_count": 35
  },
  {
   "metadata": {
    "ExecuteTime": {
     "end_time": "2025-03-17T15:49:15.464177Z",
     "start_time": "2025-03-17T15:49:15.286500Z"
    }
   },
   "cell_type": "code",
   "source": [
    "next_src = 'https://raw.githubusercontent.com/BBCPandemic/BBCMobility/refs/heads/master/flux/total_flux_next.csv'\n",
    "furtherst_src = 'https://raw.githubusercontent.com/BBCPandemic/BBCMobility/refs/heads/master/flux/total_flux_furthest.csv'\n",
    "next_df = pd.read_csv(next_src, index_col=0)\n",
    "furthest_df = pd.read_csv(furtherst_src, index_col=0)\n",
    "bbc_lads = next_df.index"
   ],
   "id": "bbdf90d015b95a35",
   "outputs": [],
   "execution_count": 36
  },
  {
   "metadata": {
    "ExecuteTime": {
     "end_time": "2025-03-17T15:49:15.490797Z",
     "start_time": "2025-03-17T15:49:15.475696Z"
    }
   },
   "cell_type": "code",
   "source": "ordering = get_population_ordering('CENSUS_GLOBAL')",
   "id": "b2721d55a917fdc7",
   "outputs": [],
   "execution_count": 37
  },
  {
   "metadata": {},
   "cell_type": "markdown",
   "source": "We have an ordering from the census data that is compatible with the BBC data (it is a subset of the BBC data regions). So we drop everything that's not in the intersection to get our comparable OD matrices.",
   "id": "c0339770536a7f06"
  },
  {
   "metadata": {
    "ExecuteTime": {
     "end_time": "2025-03-17T15:49:15.522127Z",
     "start_time": "2025-03-17T15:49:15.508790Z"
    }
   },
   "cell_type": "code",
   "source": "global_next = next_df.loc[ordering,ordering]",
   "id": "ec99cca4b9e76871",
   "outputs": [],
   "execution_count": 38
  },
  {
   "metadata": {
    "ExecuteTime": {
     "end_time": "2025-03-17T15:49:15.552582Z",
     "start_time": "2025-03-17T15:49:15.540385Z"
    }
   },
   "cell_type": "code",
   "source": "global_furthest = furthest_df.loc[ordering,ordering]",
   "id": "a4719fc419ac4172",
   "outputs": [],
   "execution_count": 39
  },
  {
   "metadata": {
    "ExecuteTime": {
     "end_time": "2025-03-17T15:49:15.612120Z",
     "start_time": "2025-03-17T15:49:15.569777Z"
    }
   },
   "cell_type": "code",
   "source": [
    "next_df.to_csv('clean/next/od_matrix.csv', index=False, header=False)\n",
    "furthest_df.to_csv('clean/furthest/od_matrix.csv', index=False, header=False)\n",
    "np.savetxt('clean/ordering.csv', next_df.index.values, delimiter=',', fmt='%s')"
   ],
   "id": "2f9dc47bfc408981",
   "outputs": [],
   "execution_count": 40
  },
  {
   "metadata": {
    "ExecuteTime": {
     "end_time": "2025-03-17T15:49:15.667629Z",
     "start_time": "2025-03-17T15:49:15.626224Z"
    }
   },
   "cell_type": "code",
   "source": [
    "global_next.to_csv('global_geography/next/od_matrix.csv', index=False, header=False)\n",
    "global_furthest.to_csv('global_geography/furthest/od_matrix.csv', index=False, header=False)\n",
    "np.savetxt('global_geography/ordering.csv', global_next.index.values, delimiter=',', fmt='%s')"
   ],
   "id": "a0caecb029fba141",
   "outputs": [],
   "execution_count": 41
  },
  {
   "metadata": {
    "ExecuteTime": {
     "end_time": "2025-03-17T15:49:15.685476Z",
     "start_time": "2025-03-17T15:49:15.683454Z"
    }
   },
   "cell_type": "code",
   "source": "",
   "id": "b5c8373eb90e197f",
   "outputs": [],
   "execution_count": null
  }
 ],
 "metadata": {
  "kernelspec": {
   "display_name": "Python 3",
   "language": "python",
   "name": "python3"
  },
  "language_info": {
   "codemirror_mode": {
    "name": "ipython",
    "version": 2
   },
   "file_extension": ".py",
   "mimetype": "text/x-python",
   "name": "python",
   "nbconvert_exporter": "python",
   "pygments_lexer": "ipython2",
   "version": "2.7.6"
  }
 },
 "nbformat": 4,
 "nbformat_minor": 5
}
