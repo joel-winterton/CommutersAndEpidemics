{
 "cells": [
  {
   "metadata": {},
   "cell_type": "markdown",
   "source": "This just changes the format of the data to match the 2011 census data so we can make comparisons.\n",
   "id": "526948b3a25c3b9"
  },
  {
   "metadata": {
    "ExecuteTime": {
     "end_time": "2025-03-14T16:51:54.213919Z",
     "start_time": "2025-03-14T16:51:54.195319Z"
    }
   },
   "cell_type": "code",
   "source": [
    "%load_ext autoreload\n",
    "%autoreload 2"
   ],
   "id": "8badb3de88f0c19a",
   "outputs": [
    {
     "name": "stdout",
     "output_type": "stream",
     "text": [
      "The autoreload extension is already loaded. To reload it, use:\n",
      "  %reload_ext autoreload\n"
     ]
    }
   ],
   "execution_count": 38
  },
  {
   "metadata": {
    "ExecuteTime": {
     "end_time": "2025-03-14T16:53:16.888942Z",
     "start_time": "2025-03-14T16:53:16.876408Z"
    }
   },
   "cell_type": "code",
   "source": [
    "import pandas as pd\n",
    "import numpy as np\n",
    "from grab_data import get_population_ordering, get_matrix"
   ],
   "id": "fcf0bd01330e3690",
   "outputs": [],
   "execution_count": 48
  },
  {
   "metadata": {
    "ExecuteTime": {
     "end_time": "2025-03-14T16:53:17.909166Z",
     "start_time": "2025-03-14T16:53:17.752828Z"
    }
   },
   "cell_type": "code",
   "source": [
    "next_src = 'https://raw.githubusercontent.com/BBCPandemic/BBCMobility/refs/heads/master/flux/total_flux_next.csv'\n",
    "furtherst_src = 'https://raw.githubusercontent.com/BBCPandemic/BBCMobility/refs/heads/master/flux/total_flux_furthest.csv'\n",
    "next_df = pd.read_csv(next_src, index_col=0)\n",
    "furtherst_df = pd.read_csv(furtherst_src, index_col=0)"
   ],
   "id": "bbdf90d015b95a35",
   "outputs": [],
   "execution_count": 49
  },
  {
   "metadata": {
    "ExecuteTime": {
     "end_time": "2025-03-14T16:53:19.165458Z",
     "start_time": "2025-03-14T16:53:19.152227Z"
    }
   },
   "cell_type": "code",
   "source": "ordering = get_population_ordering('LAD11')",
   "id": "b2721d55a917fdc7",
   "outputs": [],
   "execution_count": 50
  },
  {
   "metadata": {
    "ExecuteTime": {
     "end_time": "2025-03-14T16:53:50.797467Z",
     "start_time": "2025-03-14T16:53:50.771170Z"
    }
   },
   "cell_type": "code",
   "source": "ordering[~np.isin(ordering, next_df.index.values)]",
   "id": "d20b7f81bf6d0a5d",
   "outputs": [
    {
     "data": {
      "text/plain": [
       "array(['E06000048', 'E08000020', 'E07000097', 'E07000100', 'E07000101',\n",
       "       'E07000104'], dtype='<U9')"
      ]
     },
     "execution_count": 51,
     "metadata": {},
     "output_type": "execute_result"
    }
   ],
   "execution_count": 51
  },
  {
   "metadata": {},
   "cell_type": "markdown",
   "source": "The geography for the BBC data is a bit more recent than 2011, and so a few areas in the commuter data are merged in the BBC data. Since it's this way round, we need to get the ONS data and merge areas to match BBC geography.",
   "id": "f0d815f43e4d45ab"
  },
  {
   "metadata": {
    "ExecuteTime": {
     "end_time": "2025-03-14T17:13:22.908492Z",
     "start_time": "2025-03-14T17:13:22.894784Z"
    }
   },
   "cell_type": "code",
   "source": "next_df.shape",
   "id": "76f07bf5b32b9c5a",
   "outputs": [
    {
     "data": {
      "text/plain": [
       "(391, 391)"
      ]
     },
     "execution_count": 53,
     "metadata": {},
     "output_type": "execute_result"
    }
   ],
   "execution_count": 53
  },
  {
   "metadata": {},
   "cell_type": "code",
   "outputs": [],
   "execution_count": null,
   "source": "",
   "id": "ec99cca4b9e76871"
  }
 ],
 "metadata": {
  "kernelspec": {
   "display_name": "Python 3",
   "language": "python",
   "name": "python3"
  },
  "language_info": {
   "codemirror_mode": {
    "name": "ipython",
    "version": 2
   },
   "file_extension": ".py",
   "mimetype": "text/x-python",
   "name": "python",
   "nbconvert_exporter": "python",
   "pygments_lexer": "ipython2",
   "version": "2.7.6"
  }
 },
 "nbformat": 4,
 "nbformat_minor": 5
}
