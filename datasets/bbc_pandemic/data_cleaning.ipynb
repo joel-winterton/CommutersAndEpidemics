{
 "cells": [
  {
   "metadata": {},
   "cell_type": "markdown",
   "source": "This just changes the format of the data to match the 2011 census data so we can make comparisons.\n",
   "id": "526948b3a25c3b9"
  },
  {
   "metadata": {
    "ExecuteTime": {
     "end_time": "2025-03-14T12:27:25.023270Z",
     "start_time": "2025-03-14T12:27:25.020921Z"
    }
   },
   "cell_type": "code",
   "source": [
    "next_src = 'https://raw.githubusercontent.com/BBCPandemic/BBCMobility/refs/heads/master/flux/total_flux_next.csv'\n",
    "furtherst_src = 'https://raw.githubusercontent.com/BBCPandemic/BBCMobility/refs/heads/master/flux/total_flux_furthest.csv'"
   ],
   "id": "8badb3de88f0c19a",
   "outputs": [],
   "execution_count": 2
  },
  {
   "metadata": {
    "ExecuteTime": {
     "end_time": "2025-03-14T12:27:53.319164Z",
     "start_time": "2025-03-14T12:27:53.181201Z"
    }
   },
   "cell_type": "code",
   "source": [
    "import pandas as pd\n",
    "next_df = pd.read_csv(next_src, index_col=0)\n",
    "furtherst_df = pd.read_csv(furtherst_src, index_col=0)"
   ],
   "id": "fcf0bd01330e3690",
   "outputs": [],
   "execution_count": 5
  },
  {
   "metadata": {},
   "cell_type": "code",
   "outputs": [],
   "execution_count": null,
   "source": "",
   "id": "bbdf90d015b95a35"
  }
 ],
 "metadata": {
  "kernelspec": {
   "display_name": "Python 3",
   "language": "python",
   "name": "python3"
  },
  "language_info": {
   "codemirror_mode": {
    "name": "ipython",
    "version": 2
   },
   "file_extension": ".py",
   "mimetype": "text/x-python",
   "name": "python",
   "nbconvert_exporter": "python",
   "pygments_lexer": "ipython2",
   "version": "2.7.6"
  }
 },
 "nbformat": 4,
 "nbformat_minor": 5
}
