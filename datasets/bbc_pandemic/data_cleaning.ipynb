{
 "cells": [
  {
   "metadata": {},
   "cell_type": "markdown",
   "source": "This just changes the format of the data to match the 2011 census data so we can make comparisons.\n",
   "id": "526948b3a25c3b9"
  },
  {
   "metadata": {
    "ExecuteTime": {
     "end_time": "2025-03-14T16:51:54.213919Z",
     "start_time": "2025-03-14T16:51:54.195319Z"
    }
   },
   "cell_type": "code",
   "source": [
    "%load_ext autoreload\n",
    "%autoreload 2"
   ],
   "id": "8badb3de88f0c19a",
   "outputs": [
    {
     "name": "stdout",
     "output_type": "stream",
     "text": [
      "The autoreload extension is already loaded. To reload it, use:\n",
      "  %reload_ext autoreload\n"
     ]
    }
   ],
   "execution_count": 38
  },
  {
   "metadata": {
    "ExecuteTime": {
     "end_time": "2025-03-14T17:49:20.408045Z",
     "start_time": "2025-03-14T17:49:20.390341Z"
    }
   },
   "cell_type": "code",
   "source": [
    "import pandas as pd\n",
    "import numpy as np\n",
    "from grab_data import get_population_ordering, get_matrix"
   ],
   "id": "fcf0bd01330e3690",
   "outputs": [],
   "execution_count": 69
  },
  {
   "metadata": {
    "ExecuteTime": {
     "end_time": "2025-03-14T17:42:06.392128Z",
     "start_time": "2025-03-14T17:42:06.228035Z"
    }
   },
   "cell_type": "code",
   "source": [
    "next_src = 'https://raw.githubusercontent.com/BBCPandemic/BBCMobility/refs/heads/master/flux/total_flux_next.csv'\n",
    "furtherst_src = 'https://raw.githubusercontent.com/BBCPandemic/BBCMobility/refs/heads/master/flux/total_flux_furthest.csv'\n",
    "next_df = pd.read_csv(next_src, index_col=0)\n",
    "furthest_df = pd.read_csv(furtherst_src, index_col=0)\n",
    "bbc_lads = next_df.index"
   ],
   "id": "bbdf90d015b95a35",
   "outputs": [],
   "execution_count": 61
  },
  {
   "metadata": {
    "ExecuteTime": {
     "end_time": "2025-03-14T17:47:34.387345Z",
     "start_time": "2025-03-14T17:47:34.373865Z"
    }
   },
   "cell_type": "code",
   "source": "ordering = get_population_ordering('CENSUS_GLOBAL')",
   "id": "b2721d55a917fdc7",
   "outputs": [],
   "execution_count": 65
  },
  {
   "metadata": {},
   "cell_type": "markdown",
   "source": "We have an ordering from the census data that is compatible with the BBC data (it is a subset of the BBC data regions). So we drop everything that's not in the intersection to get our comparable OD matrices.",
   "id": "c0339770536a7f06"
  },
  {
   "metadata": {
    "ExecuteTime": {
     "end_time": "2025-03-14T17:47:35.848359Z",
     "start_time": "2025-03-14T17:47:35.835409Z"
    }
   },
   "cell_type": "code",
   "source": "global_next = next_df.loc[ordering,ordering]",
   "id": "ec99cca4b9e76871",
   "outputs": [],
   "execution_count": 66
  },
  {
   "metadata": {
    "ExecuteTime": {
     "end_time": "2025-03-14T17:47:37.695293Z",
     "start_time": "2025-03-14T17:47:37.682876Z"
    }
   },
   "cell_type": "code",
   "source": "global_furthest = furthest_df.loc[ordering,ordering]",
   "id": "a4719fc419ac4172",
   "outputs": [],
   "execution_count": 67
  },
  {
   "metadata": {
    "ExecuteTime": {
     "end_time": "2025-03-14T17:49:41.547591Z",
     "start_time": "2025-03-14T17:49:41.515769Z"
    }
   },
   "cell_type": "code",
   "source": [
    "next_df.to_csv('clean/next/od_matrix.csv', index=False, header=False)\n",
    "furthest_df.to_csv('clean/furthest/od_matrix.csv', index=False, header=False)\n",
    "np.savetxt('clean/ordering.csv', next_df.index.values, delimiter=',', fmt='%s')"
   ],
   "id": "2f9dc47bfc408981",
   "outputs": [],
   "execution_count": 70
  },
  {
   "metadata": {
    "ExecuteTime": {
     "end_time": "2025-03-14T17:50:40.557647Z",
     "start_time": "2025-03-14T17:50:40.519447Z"
    }
   },
   "cell_type": "code",
   "source": [
    "global_next.to_csv('global_geography/next/od_matrix.csv', index=False, header=False)\n",
    "global_furthest.to_csv('global_geography/furthest/od_matrix.csv', index=False, header=False)\n",
    "np.savetxt('global_geography/ordering.csv', global_next.index.values, delimiter=',', fmt='%s')"
   ],
   "id": "a0caecb029fba141",
   "outputs": [],
   "execution_count": 71
  },
  {
   "metadata": {},
   "cell_type": "code",
   "outputs": [],
   "execution_count": null,
   "source": "",
   "id": "a8c38138ec4b5a9b"
  }
 ],
 "metadata": {
  "kernelspec": {
   "display_name": "Python 3",
   "language": "python",
   "name": "python3"
  },
  "language_info": {
   "codemirror_mode": {
    "name": "ipython",
    "version": 2
   },
   "file_extension": ".py",
   "mimetype": "text/x-python",
   "name": "python",
   "nbconvert_exporter": "python",
   "pygments_lexer": "ipython2",
   "version": "2.7.6"
  }
 },
 "nbformat": 4,
 "nbformat_minor": 5
}
