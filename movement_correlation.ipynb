{
 "cells": [
  {
   "metadata": {},
   "cell_type": "markdown",
   "source": "# Do we get good correlation between datasets?\n",
   "id": "a223a0d7be669af2"
  },
  {
   "metadata": {
    "ExecuteTime": {
     "end_time": "2025-04-07T15:32:56.354784Z",
     "start_time": "2025-04-07T15:32:56.262369Z"
    }
   },
   "cell_type": "code",
   "source": "from grab_data import get_matrix, get_population_sizes",
   "id": "b5e784009f45fb7d",
   "outputs": [],
   "execution_count": 1
  },
  {
   "metadata": {
    "ExecuteTime": {
     "end_time": "2025-04-07T15:33:39.318010Z",
     "start_time": "2025-04-07T15:33:39.284592Z"
    }
   },
   "cell_type": "code",
   "source": [
    "bbc = get_matrix(dataset='BBC_NEXT_GLOBAL')\n",
    "ons = get_matrix(dataset='CENSUS_GLOBAL')"
   ],
   "id": "59be06715f104718",
   "outputs": [],
   "execution_count": 4
  },
  {
   "metadata": {
    "ExecuteTime": {
     "end_time": "2025-04-07T15:33:46.813895Z",
     "start_time": "2025-04-07T15:33:46.811140Z"
    }
   },
   "cell_type": "code",
   "source": "bbc",
   "id": "862c9e4a1bcab085",
   "outputs": [
    {
     "data": {
      "text/plain": [
       "array([[22,  0,  1, ...,  0,  0,  0],\n",
       "       [ 2, 27,  4, ...,  0,  0,  0],\n",
       "       [ 0,  7, 24, ...,  0,  0,  0],\n",
       "       ...,\n",
       "       [ 0,  0,  0, ..., 48,  0,  0],\n",
       "       [ 0,  0,  0, ...,  0, 42,  0],\n",
       "       [ 0,  0,  0, ...,  1,  1, 12]])"
      ]
     },
     "execution_count": 6,
     "metadata": {},
     "output_type": "execute_result"
    }
   ],
   "execution_count": 6
  },
  {
   "metadata": {},
   "cell_type": "code",
   "outputs": [],
   "execution_count": null,
   "source": "",
   "id": "d486d95e378b5d43"
  }
 ],
 "metadata": {
  "kernelspec": {
   "display_name": "Python 3",
   "language": "python",
   "name": "python3"
  },
  "language_info": {
   "codemirror_mode": {
    "name": "ipython",
    "version": 2
   },
   "file_extension": ".py",
   "mimetype": "text/x-python",
   "name": "python",
   "nbconvert_exporter": "python",
   "pygments_lexer": "ipython2",
   "version": "2.7.6"
  }
 },
 "nbformat": 4,
 "nbformat_minor": 5
}
