{
 "cells": [
  {
   "cell_type": "code",
   "execution_count": null,
   "id": "initial_id",
   "metadata": {
    "collapsed": true
   },
   "outputs": [],
   "source": [
    ""
   ]
  },
  {
   "metadata": {},
   "cell_type": "markdown",
   "source": [
    "Are people \"density dependent\"? Doesn't really make sense as a question, I don't decide where I'm going based off density (except for when deciding what pub to go to).\n",
    "\n",
    "The spatial model of influenza in 2009 america used a gravity model for people's movement, and found that the density dependence term was there. Is this modelling two things one of which is density dependent and one which isn't? Commuting vs non-commuting?\n"
   ],
   "id": "fc4eb3defbe4197a"
  },
  {
   "metadata": {},
   "cell_type": "code",
   "outputs": [],
   "execution_count": null,
   "source": "",
   "id": "62d9491e8ec1a677"
  }
 ],
 "metadata": {
  "kernelspec": {
   "display_name": "Python 3",
   "language": "python",
   "name": "python3"
  },
  "language_info": {
   "codemirror_mode": {
    "name": "ipython",
    "version": 2
   },
   "file_extension": ".py",
   "mimetype": "text/x-python",
   "name": "python",
   "nbconvert_exporter": "python",
   "pygments_lexer": "ipython2",
   "version": "2.7.6"
  }
 },
 "nbformat": 4,
 "nbformat_minor": 5
}
