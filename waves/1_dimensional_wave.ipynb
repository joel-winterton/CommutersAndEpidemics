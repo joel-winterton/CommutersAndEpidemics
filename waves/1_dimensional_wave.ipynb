{
 "cells": [
  {
   "metadata": {
    "ExecuteTime": {
     "end_time": "2025-04-07T12:52:16.270510Z",
     "start_time": "2025-04-07T12:52:16.267471Z"
    }
   },
   "cell_type": "code",
   "source": [
    "import numpy as np\n",
    "from scipy.ndimage import convolve1d\n",
    "from scipy.integrate import solve_ivp\n",
    "import matplotlib.pyplot as plt"
   ],
   "id": "253620260551c58e",
   "outputs": [],
   "execution_count": 208
  },
  {
   "metadata": {},
   "cell_type": "markdown",
   "source": "This is just code to check whether my expression for wave speed in homogenous 1D lattice population SIR model is correct.",
   "id": "515012283c08ef61"
  },
  {
   "metadata": {
    "ExecuteTime": {
     "end_time": "2025-04-07T12:52:16.287035Z",
     "start_time": "2025-04-07T12:52:16.283640Z"
    }
   },
   "cell_type": "code",
   "source": [
    "alpha = 10\n",
    "beta = 2.6\n",
    "gamma = 0.5\n",
    "N = 1000\n",
    "n = 100 # size of lattice\n",
    "t_max = 250\n",
    "\n",
    "\n",
    "d = np.ceil(0.5 * n).astype(int)\n",
    "S0, I0, R0 = np.full(n, fill_value=N), np.zeros(n), np.zeros(n)\n",
    "t_span = (0, t_max)\n",
    "t_eval = np.arange(0,t_max, 1)\n",
    "# infect in first site\n",
    "S0[0] -= 25\n",
    "I0[0] += 25\n",
    "\n",
    "y0 = np.concatenate([S0/N, I0/N])"
   ],
   "id": "ae3ed2ceb05fdaab",
   "outputs": [],
   "execution_count": 209
  },
  {
   "metadata": {
    "ExecuteTime": {
     "end_time": "2025-04-07T12:52:16.297239Z",
     "start_time": "2025-04-07T12:52:16.295193Z"
    }
   },
   "cell_type": "code",
   "source": [
    "def movement_kernel():\n",
    "    \"\"\"\n",
    "    This should return a vector that can be dotted with states.\n",
    "    \"\"\"\n",
    "    x = np.arange(-d, d + 1)\n",
    "    prob = np.exp(-alpha * np.abs(x))\n",
    "    # normalising constant\n",
    "    # k = (1 - np.exp(-alpha))/(1 - np.exp(-alpha * d))\n",
    "    return prob, 1/prob.sum()\n"
   ],
   "id": "2da2e66109646dab",
   "outputs": [],
   "execution_count": 210
  },
  {
   "metadata": {
    "ExecuteTime": {
     "end_time": "2025-04-07T12:54:49.598212Z",
     "start_time": "2025-04-07T12:54:49.596290Z"
    }
   },
   "cell_type": "code",
   "source": [
    "p, k = movement_kernel()\n",
    "def model(t, state):\n",
    "    s = state[:n]\n",
    "    i = state[n:]\n",
    "    m_i = convolve1d(i, p, mode='constant', cval=0, axis=1)\n",
    "    m_s  = convolve1d(s, p, mode='constant', cval=0, axis=1)\n",
    "    ds = -beta * s * i + m_s\n",
    "    di = beta * s * i - gamma * i + m_i\n",
    "\n",
    "    return np.concatenate([ds, di])"
   ],
   "id": "b05fc87c5ccc608e",
   "outputs": [],
   "execution_count": 236
  },
  {
   "metadata": {
    "ExecuteTime": {
     "end_time": "2025-04-07T13:01:31.601468Z",
     "start_time": "2025-04-07T12:54:51.934111Z"
    }
   },
   "cell_type": "code",
   "source": [
    "sol = solve_ivp(model, t_span, y0, t_eval=t_eval, vectorized=True)\n",
    "sol"
   ],
   "id": "4212ae1f0e2b377",
   "outputs": [
    {
     "ename": "KeyboardInterrupt",
     "evalue": "",
     "output_type": "error",
     "traceback": [
      "\u001B[0;31m---------------------------------------------------------------------------\u001B[0m",
      "\u001B[0;31mKeyboardInterrupt\u001B[0m                         Traceback (most recent call last)",
      "Cell \u001B[0;32mIn[237], line 1\u001B[0m\n\u001B[0;32m----> 1\u001B[0m sol \u001B[38;5;241m=\u001B[39m solve_ivp(model, t_span, y0, t_eval\u001B[38;5;241m=\u001B[39mt_eval, vectorized\u001B[38;5;241m=\u001B[39m\u001B[38;5;28;01mTrue\u001B[39;00m)\n\u001B[1;32m      2\u001B[0m sol\n",
      "File \u001B[0;32m/opt/miniconda3/envs/abm/lib/python3.12/site-packages/scipy/integrate/_ivp/ivp.py:655\u001B[0m, in \u001B[0;36msolve_ivp\u001B[0;34m(fun, t_span, y0, method, t_eval, dense_output, events, vectorized, args, **options)\u001B[0m\n\u001B[1;32m    653\u001B[0m status \u001B[38;5;241m=\u001B[39m \u001B[38;5;28;01mNone\u001B[39;00m\n\u001B[1;32m    654\u001B[0m \u001B[38;5;28;01mwhile\u001B[39;00m status \u001B[38;5;129;01mis\u001B[39;00m \u001B[38;5;28;01mNone\u001B[39;00m:\n\u001B[0;32m--> 655\u001B[0m     message \u001B[38;5;241m=\u001B[39m solver\u001B[38;5;241m.\u001B[39mstep()\n\u001B[1;32m    657\u001B[0m     \u001B[38;5;28;01mif\u001B[39;00m solver\u001B[38;5;241m.\u001B[39mstatus \u001B[38;5;241m==\u001B[39m \u001B[38;5;124m'\u001B[39m\u001B[38;5;124mfinished\u001B[39m\u001B[38;5;124m'\u001B[39m:\n\u001B[1;32m    658\u001B[0m         status \u001B[38;5;241m=\u001B[39m \u001B[38;5;241m0\u001B[39m\n",
      "File \u001B[0;32m/opt/miniconda3/envs/abm/lib/python3.12/site-packages/scipy/integrate/_ivp/base.py:197\u001B[0m, in \u001B[0;36mOdeSolver.step\u001B[0;34m(self)\u001B[0m\n\u001B[1;32m    195\u001B[0m \u001B[38;5;28;01melse\u001B[39;00m:\n\u001B[1;32m    196\u001B[0m     t \u001B[38;5;241m=\u001B[39m \u001B[38;5;28mself\u001B[39m\u001B[38;5;241m.\u001B[39mt\n\u001B[0;32m--> 197\u001B[0m     success, message \u001B[38;5;241m=\u001B[39m \u001B[38;5;28mself\u001B[39m\u001B[38;5;241m.\u001B[39m_step_impl()\n\u001B[1;32m    199\u001B[0m     \u001B[38;5;28;01mif\u001B[39;00m \u001B[38;5;129;01mnot\u001B[39;00m success:\n\u001B[1;32m    200\u001B[0m         \u001B[38;5;28mself\u001B[39m\u001B[38;5;241m.\u001B[39mstatus \u001B[38;5;241m=\u001B[39m \u001B[38;5;124m'\u001B[39m\u001B[38;5;124mfailed\u001B[39m\u001B[38;5;124m'\u001B[39m\n",
      "File \u001B[0;32m/opt/miniconda3/envs/abm/lib/python3.12/site-packages/scipy/integrate/_ivp/rk.py:144\u001B[0m, in \u001B[0;36mRungeKutta._step_impl\u001B[0;34m(self)\u001B[0m\n\u001B[1;32m    141\u001B[0m h \u001B[38;5;241m=\u001B[39m t_new \u001B[38;5;241m-\u001B[39m t\n\u001B[1;32m    142\u001B[0m h_abs \u001B[38;5;241m=\u001B[39m np\u001B[38;5;241m.\u001B[39mabs(h)\n\u001B[0;32m--> 144\u001B[0m y_new, f_new \u001B[38;5;241m=\u001B[39m rk_step(\u001B[38;5;28mself\u001B[39m\u001B[38;5;241m.\u001B[39mfun, t, y, \u001B[38;5;28mself\u001B[39m\u001B[38;5;241m.\u001B[39mf, h, \u001B[38;5;28mself\u001B[39m\u001B[38;5;241m.\u001B[39mA,\n\u001B[1;32m    145\u001B[0m                        \u001B[38;5;28mself\u001B[39m\u001B[38;5;241m.\u001B[39mB, \u001B[38;5;28mself\u001B[39m\u001B[38;5;241m.\u001B[39mC, \u001B[38;5;28mself\u001B[39m\u001B[38;5;241m.\u001B[39mK)\n\u001B[1;32m    146\u001B[0m scale \u001B[38;5;241m=\u001B[39m atol \u001B[38;5;241m+\u001B[39m np\u001B[38;5;241m.\u001B[39mmaximum(np\u001B[38;5;241m.\u001B[39mabs(y), np\u001B[38;5;241m.\u001B[39mabs(y_new)) \u001B[38;5;241m*\u001B[39m rtol\n\u001B[1;32m    147\u001B[0m error_norm \u001B[38;5;241m=\u001B[39m \u001B[38;5;28mself\u001B[39m\u001B[38;5;241m.\u001B[39m_estimate_error_norm(\u001B[38;5;28mself\u001B[39m\u001B[38;5;241m.\u001B[39mK, h, scale)\n",
      "File \u001B[0;32m/opt/miniconda3/envs/abm/lib/python3.12/site-packages/scipy/integrate/_ivp/rk.py:67\u001B[0m, in \u001B[0;36mrk_step\u001B[0;34m(fun, t, y, f, h, A, B, C, K)\u001B[0m\n\u001B[1;32m     64\u001B[0m     K[s] \u001B[38;5;241m=\u001B[39m fun(t \u001B[38;5;241m+\u001B[39m c \u001B[38;5;241m*\u001B[39m h, y \u001B[38;5;241m+\u001B[39m dy)\n\u001B[1;32m     66\u001B[0m y_new \u001B[38;5;241m=\u001B[39m y \u001B[38;5;241m+\u001B[39m h \u001B[38;5;241m*\u001B[39m np\u001B[38;5;241m.\u001B[39mdot(K[:\u001B[38;5;241m-\u001B[39m\u001B[38;5;241m1\u001B[39m]\u001B[38;5;241m.\u001B[39mT, B)\n\u001B[0;32m---> 67\u001B[0m f_new \u001B[38;5;241m=\u001B[39m fun(t \u001B[38;5;241m+\u001B[39m h, y_new)\n\u001B[1;32m     69\u001B[0m K[\u001B[38;5;241m-\u001B[39m\u001B[38;5;241m1\u001B[39m] \u001B[38;5;241m=\u001B[39m f_new\n\u001B[1;32m     71\u001B[0m \u001B[38;5;28;01mreturn\u001B[39;00m y_new, f_new\n",
      "File \u001B[0;32m/opt/miniconda3/envs/abm/lib/python3.12/site-packages/scipy/integrate/_ivp/base.py:154\u001B[0m, in \u001B[0;36mOdeSolver.__init__.<locals>.fun\u001B[0;34m(t, y)\u001B[0m\n\u001B[1;32m    152\u001B[0m \u001B[38;5;28;01mdef\u001B[39;00m \u001B[38;5;21mfun\u001B[39m(t, y):\n\u001B[1;32m    153\u001B[0m     \u001B[38;5;28mself\u001B[39m\u001B[38;5;241m.\u001B[39mnfev \u001B[38;5;241m+\u001B[39m\u001B[38;5;241m=\u001B[39m \u001B[38;5;241m1\u001B[39m\n\u001B[0;32m--> 154\u001B[0m     \u001B[38;5;28;01mreturn\u001B[39;00m \u001B[38;5;28mself\u001B[39m\u001B[38;5;241m.\u001B[39mfun_single(t, y)\n",
      "File \u001B[0;32m/opt/miniconda3/envs/abm/lib/python3.12/site-packages/scipy/integrate/_ivp/base.py:141\u001B[0m, in \u001B[0;36mOdeSolver.__init__.<locals>.fun_single\u001B[0;34m(t, y)\u001B[0m\n\u001B[1;32m    140\u001B[0m \u001B[38;5;28;01mdef\u001B[39;00m \u001B[38;5;21mfun_single\u001B[39m(t, y):\n\u001B[0;32m--> 141\u001B[0m     \u001B[38;5;28;01mreturn\u001B[39;00m \u001B[38;5;28mself\u001B[39m\u001B[38;5;241m.\u001B[39m_fun(t, y[:, \u001B[38;5;28;01mNone\u001B[39;00m])\u001B[38;5;241m.\u001B[39mravel()\n",
      "File \u001B[0;32m/opt/miniconda3/envs/abm/lib/python3.12/site-packages/scipy/integrate/_ivp/base.py:23\u001B[0m, in \u001B[0;36mcheck_arguments.<locals>.fun_wrapped\u001B[0;34m(t, y)\u001B[0m\n\u001B[1;32m     22\u001B[0m \u001B[38;5;28;01mdef\u001B[39;00m \u001B[38;5;21mfun_wrapped\u001B[39m(t, y):\n\u001B[0;32m---> 23\u001B[0m     \u001B[38;5;28;01mreturn\u001B[39;00m np\u001B[38;5;241m.\u001B[39masarray(fun(t, y), dtype\u001B[38;5;241m=\u001B[39mdtype)\n",
      "Cell \u001B[0;32mIn[236], line 5\u001B[0m, in \u001B[0;36mmodel\u001B[0;34m(t, state)\u001B[0m\n\u001B[1;32m      3\u001B[0m s \u001B[38;5;241m=\u001B[39m state[:n]\n\u001B[1;32m      4\u001B[0m i \u001B[38;5;241m=\u001B[39m state[n:]\n\u001B[0;32m----> 5\u001B[0m m_i \u001B[38;5;241m=\u001B[39m convolve1d(i, p, mode\u001B[38;5;241m=\u001B[39m\u001B[38;5;124m'\u001B[39m\u001B[38;5;124mconstant\u001B[39m\u001B[38;5;124m'\u001B[39m, cval\u001B[38;5;241m=\u001B[39m\u001B[38;5;241m0\u001B[39m, axis\u001B[38;5;241m=\u001B[39m\u001B[38;5;241m1\u001B[39m)\n\u001B[1;32m      6\u001B[0m m_s  \u001B[38;5;241m=\u001B[39m convolve1d(s, p, mode\u001B[38;5;241m=\u001B[39m\u001B[38;5;124m'\u001B[39m\u001B[38;5;124mconstant\u001B[39m\u001B[38;5;124m'\u001B[39m, cval\u001B[38;5;241m=\u001B[39m\u001B[38;5;241m0\u001B[39m, axis\u001B[38;5;241m=\u001B[39m\u001B[38;5;241m1\u001B[39m)\n\u001B[1;32m      7\u001B[0m ds \u001B[38;5;241m=\u001B[39m \u001B[38;5;241m-\u001B[39mbeta \u001B[38;5;241m*\u001B[39m s \u001B[38;5;241m*\u001B[39m i \u001B[38;5;241m+\u001B[39m m_s\n",
      "File \u001B[0;32m/opt/miniconda3/envs/abm/lib/python3.12/site-packages/scipy/ndimage/_filters.py:183\u001B[0m, in \u001B[0;36mconvolve1d\u001B[0;34m(input, weights, axis, output, mode, cval, origin)\u001B[0m\n\u001B[1;32m    180\u001B[0m \u001B[38;5;28;01mif\u001B[39;00m weights\u001B[38;5;241m.\u001B[39mdtype\u001B[38;5;241m.\u001B[39mkind \u001B[38;5;241m==\u001B[39m \u001B[38;5;124m'\u001B[39m\u001B[38;5;124mc\u001B[39m\u001B[38;5;124m'\u001B[39m:\n\u001B[1;32m    181\u001B[0m     \u001B[38;5;66;03m# pre-conjugate here to counteract the conjugation in correlate1d\u001B[39;00m\n\u001B[1;32m    182\u001B[0m     weights \u001B[38;5;241m=\u001B[39m weights\u001B[38;5;241m.\u001B[39mconj()\n\u001B[0;32m--> 183\u001B[0m \u001B[38;5;28;01mreturn\u001B[39;00m correlate1d(\u001B[38;5;28minput\u001B[39m, weights, axis, output, mode, cval, origin)\n",
      "File \u001B[0;32m/opt/miniconda3/envs/abm/lib/python3.12/site-packages/scipy/ndimage/_filters.py:140\u001B[0m, in \u001B[0;36mcorrelate1d\u001B[0;34m(input, weights, axis, output, mode, cval, origin)\u001B[0m\n\u001B[1;32m    136\u001B[0m     \u001B[38;5;28;01mraise\u001B[39;00m \u001B[38;5;167;01mValueError\u001B[39;00m(\u001B[38;5;124m'\u001B[39m\u001B[38;5;124mInvalid origin; origin must satisfy \u001B[39m\u001B[38;5;124m'\u001B[39m\n\u001B[1;32m    137\u001B[0m                      \u001B[38;5;124m'\u001B[39m\u001B[38;5;124m-(len(weights) // 2) <= origin <= \u001B[39m\u001B[38;5;124m'\u001B[39m\n\u001B[1;32m    138\u001B[0m                      \u001B[38;5;124m'\u001B[39m\u001B[38;5;124m(len(weights)-1) // 2\u001B[39m\u001B[38;5;124m'\u001B[39m)\n\u001B[1;32m    139\u001B[0m mode \u001B[38;5;241m=\u001B[39m _ni_support\u001B[38;5;241m.\u001B[39m_extend_mode_to_code(mode)\n\u001B[0;32m--> 140\u001B[0m _nd_image\u001B[38;5;241m.\u001B[39mcorrelate1d(\u001B[38;5;28minput\u001B[39m, weights, axis, output, mode, cval,\n\u001B[1;32m    141\u001B[0m                       origin)\n\u001B[1;32m    142\u001B[0m \u001B[38;5;28;01mreturn\u001B[39;00m output\n",
      "\u001B[0;31mKeyboardInterrupt\u001B[0m: "
     ]
    }
   ],
   "execution_count": 237
  },
  {
   "metadata": {
    "ExecuteTime": {
     "end_time": "2025-04-07T12:53:20.972037Z",
     "start_time": "2025-04-07T12:53:20.916972Z"
    }
   },
   "cell_type": "code",
   "source": [
    "sim_s, sim_i = sol.y[:n,:], sol.y[n:,:]\n",
    "plt.plot(sol.t, sim_i[0])\n",
    "plt.show()"
   ],
   "id": "9d355e4c8b63055",
   "outputs": [
    {
     "data": {
      "text/plain": [
       "<Figure size 640x480 with 1 Axes>"
      ],
      "image/png": "[encoded data removed]"
     },
     "metadata": {},
     "output_type": "display_data"
    }
   ],
   "execution_count": 231
  },
  {
   "metadata": {
    "ExecuteTime": {
     "end_time": "2025-04-07T12:52:16.807337Z",
     "start_time": "2025-04-07T12:52:16.805304Z"
    }
   },
   "cell_type": "code",
   "source": "",
   "id": "4238921733342564",
   "outputs": [],
   "execution_count": null
  },
  {
   "metadata": {
    "ExecuteTime": {
     "end_time": "2025-04-07T12:52:16.818281Z",
     "start_time": "2025-04-07T12:52:16.816555Z"
    }
   },
   "cell_type": "code",
   "source": "",
   "id": "7c6e3e23898905eb",
   "outputs": [],
   "execution_count": null
  }
 ],
 "metadata": {
  "kernelspec": {
   "display_name": "Python 3",
   "language": "python",
   "name": "python3"
  },
  "language_info": {
   "codemirror_mode": {
    "name": "ipython",
    "version": 2
   },
   "file_extension": ".py",
   "mimetype": "text/x-python",
   "name": "python",
   "nbconvert_exporter": "python",
   "pygments_lexer": "ipython2",
   "version": "2.7.6"
  }
 },
 "nbformat": 4,
 "nbformat_minor": 5
}
